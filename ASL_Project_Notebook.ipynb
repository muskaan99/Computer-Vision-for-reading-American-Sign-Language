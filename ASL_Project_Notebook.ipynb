{
 "cells": [
  {
   "cell_type": "markdown",
   "metadata": {
    "id": "sneuy7rmY-mL"
   },
   "source": [
    "# Computer Vision for reading American Sign Language (ASL)"
   ]
  },
  {
   "cell_type": "code",
   "execution_count": null,
   "metadata": {
    "colab": {
     "base_uri": "https://localhost:8080/"
    },
    "id": "0gTmIQGqZcbM",
    "outputId": "41331803-c190-4057-f48e-a842c3a957a1"
   },
   "outputs": [],
   "source": [
    "from google.colab import drive\n",
    "drive.mount('/content/drive')"
   ]
  },
  {
   "cell_type": "markdown",
   "metadata": {
    "id": "JvvmNAzIms1w"
   },
   "source": [
    "## Importing libraries"
   ]
  },
  {
   "cell_type": "code",
   "execution_count": null,
   "metadata": {
    "id": "7kBe9yhLmR3P"
   },
   "outputs": [],
   "source": [
    "import matplotlib.pyplot as plt\n",
    "import seaborn as sns\n",
    "import numpy as np\n",
    "import torch\n",
    "from tqdm import tqdm\n",
    "import torch.nn as nn\n",
    "from torch import optim\n",
    "import torch.nn.functional as F\n",
    "import torchvision.datasets as datasets\n",
    "from torchvision.io import read_image\n",
    "from torchvision import transforms\n",
    "from torchvision import models\n",
    "from torch.utils.data import Dataset, DataLoader, SubsetRandomSampler,random_split\n",
    "\n",
    "import glob\n",
    "from mpl_toolkits.axes_grid1 import ImageGrid\n",
    "from skimage.transform import resize"
   ]
  },
  {
   "cell_type": "code",
   "execution_count": null,
   "metadata": {
    "id": "LHgpdIz9mkpg"
   },
   "outputs": [],
   "source": [
    "train_path='/content/drive/MyDrive/ASL_Project/dataset/asl_alphabet_train/asl_alphabet_train'\n",
    "test_path='/content/drive/MyDrive/ASL_Project/dataset/ASL_TEST/asl_alphabet_test'\n",
    "my_test_path='/content/drive/MyDrive/ASL_Project/My_Test_ASL'"
   ]
  },
  {
   "cell_type": "markdown",
   "metadata": {
    "id": "gJzmzYxwy6Sb"
   },
   "source": [
    "### Viewing the images from the training set"
   ]
  },
  {
   "cell_type": "code",
   "execution_count": null,
   "metadata": {
    "colab": {
     "base_uri": "https://localhost:8080/",
     "height": 583
    },
    "id": "V1fuFwn6y6Sc",
    "outputId": "27af5739-9f16-46a9-c9a9-68c3ceaede54"
   },
   "outputs": [],
   "source": [
    "train_folders=np.array(glob.glob('/content/drive/MyDrive/ASL_Project/dataset/asl_alphabet_train/asl_alphabet_train/*')) \n",
    " \n",
    "fig = plt.figure(figsize=(30, 30))\n",
    "grid = ImageGrid(fig, 111, \n",
    "                 nrows_ncols=(8, 8),  \n",
    "                 axes_pad=0,\n",
    "                 )\n",
    "l=0\n",
    "for img in train_folders:\n",
    "        it=np.array(glob.glob(img+'/*')) \n",
    "        im=plt.imread(it[0])\n",
    "        class_label=it[0].split('/')[8]\n",
    "        grid[l].imshow(im,cmap='gray',interpolation='nearest')\n",
    "        grid[l].text(10,25, class_label,fontsize=40,color='red')\n",
    "        l+=1"
   ]
  },
  {
   "cell_type": "markdown",
   "metadata": {
    "id": "xebP26sQy6Sc"
   },
   "source": [
    "### Viewing the images from self-generated test data "
   ]
  },
  {
   "cell_type": "code",
   "execution_count": null,
   "metadata": {
    "colab": {
     "base_uri": "https://localhost:8080/",
     "height": 583
    },
    "id": "jX9WovF-y6Sd",
    "outputId": "197f1c13-6d57-4c34-b598-7d89806d9c73"
   },
   "outputs": [],
   "source": [
    "my_test_folders=np.array(glob.glob('/content/drive/MyDrive/ASL_Project/My_Test_ASL/*')) \n",
    " \n",
    "fig = plt.figure(figsize=(30, 30))\n",
    "grid = ImageGrid(fig, 111, \n",
    "                 nrows_ncols=(8, 8),  \n",
    "                 axes_pad=0,\n",
    "                 )\n",
    "l=0\n",
    "for img in my_test_folders:\n",
    "        it=np.array(glob.glob(img+'/*')) \n",
    "        image=plt.imread(it[0])\n",
    "        class_label=it[0].split('/')[6]\n",
    "        image2=resize(image, (200, 200))\n",
    "        grid[l].imshow(image2,cmap='gray',interpolation='nearest')\n",
    "        grid[l].text(10,25, class_label,fontsize=40,color='red')\n",
    "        l+=1"
   ]
  },
  {
   "cell_type": "markdown",
   "metadata": {
    "id": "roIYjbocmm-W"
   },
   "source": [
    "## Transformations"
   ]
  },
  {
   "cell_type": "markdown",
   "metadata": {
    "id": "ahRufBJEm0M5"
   },
   "source": [
    " ### Transformations on the Train dataset"
   ]
  },
  {
   "cell_type": "code",
   "execution_count": null,
   "metadata": {
    "id": "lA1Yawiwmkr_"
   },
   "outputs": [],
   "source": [
    "train_transforms = transforms.Compose([transforms.Resize((96,96)),\n",
    "                                       transforms.RandomHorizontalFlip(p=0.3),\n",
    "                                       transforms.ToTensor()])\n"
   ]
  },
  {
   "cell_type": "markdown",
   "metadata": {
    "id": "taeM_Hm8m5rQ"
   },
   "source": [
    " ### Transformations on the Test dataset"
   ]
  },
  {
   "cell_type": "code",
   "execution_count": null,
   "metadata": {
    "id": "aZGTBl3Wmkuf"
   },
   "outputs": [],
   "source": [
    "test_transforms = transforms.Compose([transforms.Resize((96,96)),\n",
    "                                       transforms.ToTensor()])"
   ]
  },
  {
   "cell_type": "code",
   "execution_count": null,
   "metadata": {
    "id": "vP1V6XU7mkw_"
   },
   "outputs": [],
   "source": [
    "# performing resize and horizontal flip transformations on the train data set\n",
    "\n",
    "data= datasets.ImageFolder(train_path, transform=train_transforms)"
   ]
  },
  {
   "cell_type": "code",
   "execution_count": null,
   "metadata": {
    "id": "ypkePDCVmk13"
   },
   "outputs": [],
   "source": [
    "# performing resize transformations on the two test data sets\n",
    "\n",
    "test_data = datasets.ImageFolder(test_path, transform=test_transforms)\n",
    "my_test_data=datasets.ImageFolder(my_test_path, transform=test_transforms)"
   ]
  },
  {
   "cell_type": "markdown",
   "metadata": {
    "id": "04Z1ZpncndqV"
   },
   "source": [
    "### Mapping of labels"
   ]
  },
  {
   "cell_type": "code",
   "execution_count": null,
   "metadata": {
    "colab": {
     "base_uri": "https://localhost:8080/"
    },
    "id": "1gxOo_EMmk4X",
    "outputId": "e5c67038-1c94-473f-defe-429d1c4183e1"
   },
   "outputs": [],
   "source": [
    "class_labels=data.class_to_idx\n",
    "class_labels = {value:key for key, value in class_labels.items()}\n",
    "print(class_labels)\n",
    "print(f\"Class to index mapping: {data.class_to_idx}\")"
   ]
  },
  {
   "cell_type": "markdown",
   "metadata": {
    "id": "9Q0ccg4WqfJe"
   },
   "source": [
    "## Splitting of train and validation data set"
   ]
  },
  {
   "cell_type": "code",
   "execution_count": null,
   "metadata": {
    "id": "olsS0t_Dmk6u"
   },
   "outputs": [],
   "source": [
    "train_data_,val_data_= random_split(data, (69600, 17400), \n",
    "                                    generator=torch.Generator().manual_seed(25))\n",
    "#splits the dataset randomly"
   ]
  },
  {
   "cell_type": "code",
   "execution_count": null,
   "metadata": {
    "colab": {
     "base_uri": "https://localhost:8080/"
    },
    "id": "luyuDww2qs4X",
    "outputId": "5b8dbd5b-b95d-447a-e65b-b42cf9eea26e"
   },
   "outputs": [],
   "source": [
    "print('Total images in Train data set:', len(train_data_))\n",
    "print('Total images in Validation data set:', len(val_data_))\n",
    "print('Total images in Test data set:', len(test_data))"
   ]
  },
  {
   "cell_type": "markdown",
   "metadata": {
    "id": "pTPlgnWrrfAS"
   },
   "source": [
    "## Loading images to data loaders"
   ]
  },
  {
   "cell_type": "code",
   "execution_count": null,
   "metadata": {
    "id": "tzk3wR4Dqs6_"
   },
   "outputs": [],
   "source": [
    "train_loader = torch.utils.data.DataLoader(train_data_, batch_size=128, shuffle=True)\n",
    "val_loader = torch.utils.data.DataLoader(val_data_, batch_size=128, shuffle=True)\n",
    "test_loader = torch.utils.data.DataLoader(test_data)\n",
    "my_test_loader = torch.utils.data.DataLoader(my_test_data)"
   ]
  },
  {
   "cell_type": "markdown",
   "metadata": {
    "id": "vE7EN2lms6IQ"
   },
   "source": [
    "## Checking if GPU is available"
   ]
  },
  {
   "cell_type": "code",
   "execution_count": null,
   "metadata": {
    "colab": {
     "base_uri": "https://localhost:8080/"
    },
    "id": "DGOX3xTkqs9n",
    "outputId": "b4e1c7e1-612e-4f9c-f6bb-44ff72ee2d7b"
   },
   "outputs": [],
   "source": [
    "# use GPU to accelerate the training if available\n",
    "device = \"cuda\" if torch.cuda.is_available() else \"cpu\"\n",
    "print(\"Currently used device:\", device)"
   ]
  },
  {
   "cell_type": "markdown",
   "metadata": {
    "id": "DJ8RIsCHx1WP"
   },
   "source": [
    "## Common functions for generating plots"
   ]
  },
  {
   "cell_type": "code",
   "execution_count": null,
   "metadata": {
    "id": "fnx4dV0bx0de"
   },
   "outputs": [],
   "source": [
    "def plot_accuracy(train_accuracy,validation_accuracy):\n",
    "    '''\n",
    "    Function to plot the accuracy for Training and Validation sets\n",
    "    \n",
    "    Parameters:\n",
    "    train_accuracy: list of accuracy for training set\n",
    "    validation_accuracy:list of accuracy for validation set\n",
    "   \n",
    "\n",
    "    Return:\n",
    "    Plot of Train and Validation Accuracy\n",
    "    \n",
    "    '''\n",
    "     # accuracy plots\n",
    "    plt.figure(figsize=(8,8))\n",
    "    plt.plot(train_accuracy, color='green', label='Train Accuracy')# plot train accuracy\n",
    "    plt.plot(validation_accuracy, color='orange', label='Validataion Accuracy')# plot validation accuracy\n",
    "    plt.xlabel('Epochs')\n",
    "    plt.ylabel('Accuracy')\n",
    "    plt.legend()\n",
    "    plt.show()\n"
   ]
  },
  {
   "cell_type": "code",
   "execution_count": null,
   "metadata": {
    "id": "0LtfctkHx0gW"
   },
   "outputs": [],
   "source": [
    "def plot_loss(train_loss,validation_loss):\n",
    "    '''\n",
    "    Function to plot the accuracy for Training and Validation sets\n",
    "    \n",
    "    Parameters:\n",
    "    train_loss: list of loss for training set\n",
    "    validation_loss:list of loss for validation set\n",
    "    \n",
    "\n",
    "    Return:\n",
    "    Plot of Train and Validation Loss Curves\n",
    "    \n",
    "    '''\n",
    "    plt.figure(figsize=(8,8))\n",
    "    plt.plot(train_loss, color='blue', label='Train Loss')# plot train loss\n",
    "    plt.plot(validation_loss, color='red', label='Validataion Loss')# plot validation loss\n",
    "    plt.xlabel('Epochs')\n",
    "    plt.ylabel('Loss')\n",
    "    plt.legend()\n",
    "    plt.show()\n"
   ]
  },
  {
   "cell_type": "markdown",
   "metadata": {
    "id": "kJwP_SC1CqWd"
   },
   "source": [
    "## Common function for performing training on the model"
   ]
  },
  {
   "cell_type": "code",
   "execution_count": null,
   "metadata": {
    "id": "BgYmron6y6Sk"
   },
   "outputs": [],
   "source": [
    "def train_model(model, dataloader,optimizer,criterion):\n",
    "    '''\n",
    "    Function to train the model on training set of images\n",
    "\n",
    "    Parameters:\n",
    "    model: the trained model\n",
    "    dataloader: validation dataset\n",
    "    optimizer: optimizer with a learning rate\n",
    "    criterion: loss criterion\n",
    "\n",
    "    Return:\n",
    "    train_loss: train loss\n",
    "    train_accuracy: train accuracy\n",
    "\n",
    "    '''\n",
    "    print('Training the model')\n",
    "    model.train()\n",
    "    batch_loss, batch_accuracy = [], []\n",
    "    \n",
    "    for k,(data,target) in tqdm(enumerate(dataloader), total=int(len(train_loader)/train_loader.batch_size)):\n",
    "        data, target = data.to(device), target.to(device)\n",
    "        \n",
    "        outputs = model(data)\n",
    "        \n",
    "        loss = criterion(outputs, target)\n",
    "        acc = (outputs.argmax(1) == target).type(torch.float)\n",
    "        acc = torch.mean(acc)\n",
    "        \n",
    "        optimizer.zero_grad()\n",
    "        loss.backward()\n",
    "        optimizer.step()\n",
    "        \n",
    "        # Append to lists\n",
    "        batch_loss.append(loss.item())\n",
    "        batch_accuracy.append(acc.item())\n",
    "                              \n",
    "    train_loss = sum(batch_loss)/len(batch_loss)  \n",
    "    train_accuracy = sum(batch_accuracy)/len(batch_accuracy)\n",
    "    \n",
    "    print(f\"Train Loss: {train_loss:.4f}, Train Accuracy: {train_accuracy:.2f}\")\n",
    "    \n",
    "    return train_loss, train_accuracy"
   ]
  },
  {
   "cell_type": "markdown",
   "metadata": {
    "id": "2nPmet8CDWNN"
   },
   "source": [
    "## Common function for performing validation on the model"
   ]
  },
  {
   "cell_type": "code",
   "execution_count": null,
   "metadata": {
    "id": "4NgqbE2Ly6Sk"
   },
   "outputs": [],
   "source": [
    "def validate_model(model, dataloader,criterion):\n",
    "    '''\n",
    "    Function to check performance on the validation dataset\n",
    "\n",
    "    Parameters:\n",
    "    model: the trained model\n",
    "    dataloader: validation dataset\n",
    "    criterion: loss criterion\n",
    "\n",
    "    Return:\n",
    "    val_loss: validation loss\n",
    "    val_accuracy: validation accuracy\n",
    "\n",
    "    '''\n",
    "    \n",
    "    print('Validating the model')\n",
    "    model.eval()\n",
    "\n",
    "    with torch.no_grad():\n",
    "        for data,target in dataloader:\n",
    "            data, target = data.to(device), target.to(device)\n",
    "            outputs = model(data)\n",
    "            val_loss = criterion(outputs, target)\n",
    "            val_accuracy = (outputs.argmax(1) == target).type(torch.float).mean()\n",
    "        \n",
    "        print(f'Validation Loss: {val_loss.item():.4f}, Validation Accuracy: {val_accuracy.item():.2f}')\n",
    "        \n",
    "        return val_loss.item(), val_accuracy.item()"
   ]
  },
  {
   "cell_type": "markdown",
   "metadata": {
    "id": "FMNxg3ZB5ejQ"
   },
   "source": [
    "## Common function for testing models"
   ]
  },
  {
   "cell_type": "code",
   "execution_count": null,
   "metadata": {
    "id": "NP3SYygrx0kW"
   },
   "outputs": [],
   "source": [
    "def test_model(model,test_loader,x):\n",
    "    '''\n",
    "    Function to test model's performance on the test set. The function receives two types of test_loaders. \n",
    "    One is the test set provided with the Kaggle dataset and the second one is the dataset created by us.\n",
    "    \n",
    "    Parameters:\n",
    "    model: the model to be used for testing\n",
    "    test_loader: contains the test set images\n",
    "    x: takes the value of 0 or 1. 0 indicates the test set sent to the function was the Kaggle \n",
    "    test data. 1 indicates the test set was the one created by us.\n",
    "\n",
    "    Return:\n",
    "    Prints accuracy on the test dataset\n",
    "\n",
    "    '''\n",
    "    true_labels=[] #correct labels\n",
    "    pred_labels=[] #labels which would be predicted my model\n",
    "    s=\"\"\n",
    "    \n",
    "    with torch.no_grad():\n",
    "        total = 0\n",
    "        correct = 0\n",
    "        for image, labels in test_loader:\n",
    "            model.eval()\n",
    "            image=image.to(device)\n",
    "            labels=labels.to(device)\n",
    "            output=model(image)\n",
    "\n",
    "            predictions=torch.max(output,1)[1]\n",
    "            correct+=(predictions==labels).sum().cpu().numpy()\n",
    "            total+=len(labels)\n",
    "\n",
    "            labels=labels.cpu().detach().numpy()\n",
    "            predictions=predictions.cpu().detach().numpy()\n",
    "\n",
    "            true_labels.extend(labels) \n",
    "            pred_labels.extend(predictions)\n",
    "\n",
    "        acc = correct*100/total\n",
    "        if(x==0):\n",
    "            s='Kaggle'\n",
    "        else:\n",
    "            s='self generated'\n",
    "        print('Accuracy on '+s+' test dataset: %f' %(acc))"
   ]
  },
  {
   "cell_type": "markdown",
   "metadata": {
    "id": "gE3EshqNDjDm"
   },
   "source": [
    "### Common Optimizer and Criterion functions "
   ]
  },
  {
   "cell_type": "code",
   "execution_count": null,
   "metadata": {
    "id": "5lYACR_vy6Sj"
   },
   "outputs": [],
   "source": [
    "def model_optimizer_criterion(model, learning_rate):\n",
    "    '''\n",
    "    Function to define the optimizer and criterion function for the model\n",
    "\n",
    "    Parameters:\n",
    "    learning_rate: learning rate for optimizer\n",
    "   \n",
    "    Return:\n",
    "    optimizer: optimizer with a learning rate\n",
    "    criterion: loss criterion\n",
    "    '''\n",
    "    # optimizer\n",
    "    optimizer = torch.optim.Adam(model.parameters(), lr=learning_rate, weight_decay = 0.0001)\n",
    "    # loss function\n",
    "    criterion = nn.CrossEntropyLoss()\n",
    "    \n",
    "    return optimizer,criterion"
   ]
  },
  {
   "cell_type": "markdown",
   "metadata": {
    "id": "80r6WSCmy6Sj"
   },
   "source": [
    "## Deep Neural Network"
   ]
  },
  {
   "cell_type": "markdown",
   "metadata": {
    "id": "iJ2s8QS0y6Sj"
   },
   "source": [
    "### Defining the NN class"
   ]
  },
  {
   "cell_type": "code",
   "execution_count": null,
   "metadata": {
    "id": "105jceFjy6Sj"
   },
   "outputs": [],
   "source": [
    "class NeuralNetwork(nn.Module):\n",
    "    '''\n",
    "    Defining a 4-layer Deep NN with Kaiming normal initialization and ReLU activation functions\n",
    "    '''\n",
    "    \n",
    "    def __init__(self):\n",
    "        super(NeuralNetwork, self).__init__()\n",
    "        \n",
    "        self.flatten = nn.Flatten()\n",
    "        #linear layers\n",
    "        self.l1 = nn.Linear(3*96*96, 10000)# input image size is 96x96 and due to RGB image there are 3 channels\n",
    "        self.l2 = nn.Linear(10000, 2000)\n",
    "        self.l3 = nn.Linear(2000, 250)\n",
    "        self.l4 = nn.Linear(250, 29)\n",
    "\n",
    "        nn.init.kaiming_normal_(self.l1.weight, mode='fan_in', \n",
    "                                 nonlinearity='relu')\n",
    "        nn.init.kaiming_normal_(self.l2.weight, mode='fan_in', \n",
    "                                 nonlinearity='relu')\n",
    "        nn.init.kaiming_normal_(self.l3.weight, mode='fan_in', \n",
    "                                 nonlinearity='relu')\n",
    "        nn.init.kaiming_normal_(self.l4.weight, mode='fan_in', \n",
    "                                 nonlinearity='relu')\n",
    "\n",
    "    def forward(self, x):\n",
    "        #combining the entire model\n",
    "        \n",
    "        x = self.flatten(x)\n",
    "        x = F.relu(self.l1(x))\n",
    "        x = F.relu(self.l2(x))\n",
    "        x = F.relu(self.l3(x))\n",
    "        output = self.l4(x)\n",
    "        \n",
    "        return output"
   ]
  },
  {
   "cell_type": "code",
   "execution_count": null,
   "metadata": {
    "colab": {
     "base_uri": "https://localhost:8080/"
    },
    "id": "NaB2nG3Oy6Sj",
    "outputId": "bd3ff467-b5bc-42e3-edf3-ba7a19747480"
   },
   "outputs": [],
   "source": [
    "nn_model = NeuralNetwork()\n",
    "print('Layers of the updated pre-trained Neural Network model')\n",
    "print(nn_model)\n",
    "\n",
    "# trainable parameters\n",
    "total_trainable_parameters = sum(para.numel() for para in nn_model.parameters() if para.requires_grad)\n",
    "print(f\"{total_trainable_parameters:,} number of training parameters.\")"
   ]
  },
  {
   "cell_type": "code",
   "execution_count": null,
   "metadata": {
    "id": "KSfrFbbMy6Sk"
   },
   "outputs": [],
   "source": [
    "def neural_net_model():\n",
    "    '''\n",
    "    Function to train the model as well as check the performance on the validation dataset. Performs early stopping when the\n",
    "    validation loss exceeds the previous loss twice.\n",
    "    '''\n",
    "    num_epoch=40 #setting total number of epochs to be 40\n",
    "    prev_loss=100 #initial loss value for early stopping\n",
    "    max_penalty=3\n",
    "    best_acc=0\n",
    "    \n",
    "    parameter_learning_rate=[0.001,0.0001,0.00001] # different values for learning rate \n",
    "    for i,learning_rate in enumerate(parameter_learning_rate): #Looping through the learning rates\n",
    "        train_loss , train_accuracy = [], []\n",
    "        val_loss , val_accuracy = [], []\n",
    "        counter=0\n",
    "        model = NeuralNetwork().to(device)\n",
    "        \n",
    "        optimizer,criterion = model_optimizer_criterion(model, learning_rate)\n",
    "        print(\"Training model on Learning Rate=\",learning_rate)\n",
    "        \n",
    "        #model will train for a particular learning rate\n",
    "        for epoch in range(num_epoch):# Looping through the epochs\n",
    "            print(f\"Epoch number {epoch+1} of {num_epoch}\")\n",
    "            \n",
    "            #training the model \n",
    "            train_epoch_loss, train_epoch_accuracy = train_model(model, \n",
    "                                                         train_loader,\n",
    "                                                         optimizer,\n",
    "                                                         criterion)\n",
    "            #checking the performance on validation\n",
    "            val_epoch_loss, val_epoch_accuracy = validate_model(model, \n",
    "                                                          val_loader,\n",
    "                                                          criterion)\n",
    "            #append the loss and accuracy for every epoch for both train and validation data set\n",
    "            train_loss.append(train_epoch_loss)\n",
    "            train_accuracy.append(train_epoch_accuracy)\n",
    "            val_loss.append(val_epoch_loss)\n",
    "            val_accuracy.append(val_epoch_accuracy)\n",
    "            \n",
    "            # Early Stopping\n",
    "            if val_epoch_loss>prev_loss: # checking if validation loss for the current epoch is greater than the previous loss\n",
    "                counter+=1\n",
    "                if counter>= max_penalty: # if the validation loss exceeds the previous loss twice begin the early stopping process\n",
    "                    print('Early Stopping Initiated')\n",
    "                    break\n",
    "                    \n",
    "            else:\n",
    "                counter = 0\n",
    "\n",
    "            prev_loss = val_epoch_loss # update the threshold loss to the previous validation loss of the epoch\n",
    "            \n",
    "        #saving the best performing model\n",
    "        if(val_epoch_accuracy>best_acc):\n",
    "            best_acc=val_epoch_accuracy\n",
    "            best_model=model\n",
    "            \n",
    "        #saving the model for a particular learning rate\n",
    "        torch.save(model.state_dict(),'/content/drive/MyDrive/ASL_Project/savedmodels/'+'model_neural_network'+str(learning_rate)+'.pth' )\n",
    "        \n",
    "        #plotting the accuracy and loss curves\n",
    "        print('Plotting Validation and Training Accuracy Curves for Learning Rate of ', learning_rate)\n",
    "        plot_accuracy(train_accuracy,val_accuracy)\n",
    "        print('Plotting Validation and Training Loss Curves for Learning Rate of ', learning_rate)\n",
    "        plot_loss(train_loss,val_loss)\n",
    "    \n",
    "    return best_model"
   ]
  },
  {
   "cell_type": "markdown",
   "metadata": {
    "id": "8TxpV8cZy6Sk"
   },
   "source": [
    "### Training the Neural Network model"
   ]
  },
  {
   "cell_type": "code",
   "execution_count": null,
   "metadata": {
    "colab": {
     "base_uri": "https://localhost:8080/",
     "height": 382
    },
    "id": "fI7HJtx0y6Sl",
    "outputId": "f57e563e-f824-4cf2-a8f2-7f94a8b152f9"
   },
   "outputs": [],
   "source": [
    "trained_neural_net_model=neural_net_model()"
   ]
  },
  {
   "cell_type": "markdown",
   "metadata": {
    "id": "GZnhZGQxy6Sl"
   },
   "source": [
    "### Testing the Neural Network model"
   ]
  },
  {
   "cell_type": "markdown",
   "metadata": {
    "id": "4jqZCr_jy6Sl"
   },
   "source": [
    "#### Testing the model on given test dataset"
   ]
  },
  {
   "cell_type": "code",
   "execution_count": null,
   "metadata": {
    "id": "iRp3nPk0y6Sl"
   },
   "outputs": [],
   "source": [
    "test_model(trained_neural_net_model,test_loader,0)"
   ]
  },
  {
   "cell_type": "markdown",
   "metadata": {
    "id": "tTB39foay6Sl"
   },
   "source": [
    "#### Testing the model on our test dataset"
   ]
  },
  {
   "cell_type": "code",
   "execution_count": null,
   "metadata": {
    "id": "OyszymLKy6Sl"
   },
   "outputs": [],
   "source": [
    "test_model(trained_neural_net_model,my_test_loader,1)"
   ]
  },
  {
   "cell_type": "markdown",
   "metadata": {
    "id": "Rn462Pl6K8jb"
   },
   "source": [
    "## Convolutional Neural Network(CNN)"
   ]
  },
  {
   "cell_type": "code",
   "execution_count": null,
   "metadata": {
    "id": "y8vpnEdcK79B"
   },
   "outputs": [],
   "source": [
    "class CustomCNN(nn.Module):\n",
    "    ''' Creating a CNN model from scratch'''\n",
    "    \n",
    "    def __init__(self):\n",
    "        super(CustomCNN, self).__init__()\n",
    "        self.conv1 = nn.Conv2d(3, 8, 5)\n",
    "        self.conv2 = nn.Conv2d(8, 16, 5)\n",
    "        self.conv3 = nn.Conv2d(16, 32, 3)\n",
    "        self.conv4 = nn.Conv2d(32, 64, 5)\n",
    "        self.fc1 = nn.Linear(64, 128)\n",
    "        self.fc2 = nn.Linear(128, 29)#output 29 classes\n",
    "        self.pool = nn.MaxPool2d(2, 2)\n",
    "    def forward(self, x):\n",
    "        x = self.pool(F.relu(self.conv1(x)))\n",
    "        x = self.pool(F.relu(self.conv2(x)))\n",
    "        x = self.pool(F.relu(self.conv3(x)))\n",
    "        x = self.pool(F.relu(self.conv4(x)))\n",
    "        bs, _, _, _ = x.shape\n",
    "        x = F.adaptive_avg_pool2d(x, 1).reshape(bs, -1)\n",
    "        x = F.relu(self.fc1(x))\n",
    "        x = self.fc2(x)\n",
    "        return x"
   ]
  },
  {
   "cell_type": "code",
   "execution_count": null,
   "metadata": {
    "colab": {
     "base_uri": "https://localhost:8080/"
    },
    "id": "ST_CAdQyK7_Y",
    "outputId": "40ea9723-c006-4834-fcf1-6354d7c45c3a"
   },
   "outputs": [],
   "source": [
    "model_cnn = CustomCNN().to(device)\n",
    "print(model_cnn)\n",
    "# total parameters and trainable parameters\n",
    "total_params = sum(p.numel() for p in model_cnn.parameters())\n",
    "print(f\"{total_params:,} total parameters.\")\n",
    "total_trainable_params = sum(\n",
    "    p.numel() for p in model_cnn.parameters() if p.requires_grad)\n",
    "print(f\"{total_trainable_params:,} training parameters.\")\n"
   ]
  },
  {
   "cell_type": "code",
   "execution_count": null,
   "metadata": {
    "id": "w-s4P5QcK8Bg"
   },
   "outputs": [],
   "source": [
    "def cnn_optimizer_criterion(model,learning_rate,wt_decay):\n",
    "    '''\n",
    "    Function to define the optimizer and criterion function for the CNN model\n",
    "\n",
    "    Parameters:\n",
    "    learning_rate: learning rate for optimizer\n",
    "   \n",
    "    Return:\n",
    "    optimizer: optimizer with a learning rate\n",
    "    criterion: loss criterion\n",
    "    '''\n",
    "    #optimizer\n",
    "    optimizer = torch.optim.Adam(model.parameters(), lr=learning_rate,weight_decay=wt_decay)\n",
    "    # loss function\n",
    "    criterion = nn.CrossEntropyLoss()\n",
    "    return optimizer,criterion"
   ]
  },
  {
   "cell_type": "code",
   "execution_count": null,
   "metadata": {
    "id": "vi8-p_LRK8Dx"
   },
   "outputs": [],
   "source": [
    "def my_cnn_model():\n",
    "    '''\n",
    "    Function to train the model as well as check the performance on the validation dataset using CNN Architecture. Performs early stopping when the\n",
    "    validation loss exceeds the previous loss thrice.\n",
    "    '''\n",
    "    num_epoch=40 #setting total number of epochs to be 40\n",
    "    prev_loss=100 #initial loss value for early stopping\n",
    "    max_penalty=3\n",
    "    best_acc=0\n",
    "    param_learning_rate=[0.1,0.01,0.001]\n",
    "    param_weight_decay=[0.001,0.0001]\n",
    "    # Hyper parameter tuning begins\n",
    "    for i,learning_rate in enumerate(param_learning_rate):#Looping through different learning rates values\n",
    "        for j,wt_decay in enumerate(param_weight_decay):#Looping through different weight decay values\n",
    "            model = CustomCNN().to(device)\n",
    "            optimizer,criterion=cnn_optimizer_criterion(model,learning_rate,wt_decay)\n",
    "            train_loss , train_accuracy = [], []\n",
    "            val_loss , val_accuracy = [], []\n",
    "            for epoch in range(num_epoch):\n",
    "                print(f\"Epoch {epoch+1} of {num_epoch}\")\n",
    "                #training the model \n",
    "                train_epoch_loss, train_epoch_accuracy = train_model(model, \n",
    "                                                         train_loader,\n",
    "                                                         optimizer,\n",
    "                                                         criterion)\n",
    "                #checking the performance on validation\n",
    "                val_epoch_loss, val_epoch_accuracy = validate_model(model, \n",
    "                                                          val_loader,\n",
    "                                                          criterion)\n",
    "                # Early Stopping\n",
    "                if val_epoch_loss>prev_loss: # checking if validation loss for the current epoch is greater than the previous loss\n",
    "                    counter+=1\n",
    "                    if counter>= max_penalty: # if the validation loss exceeds the previous loss twice begin the early stopping process\n",
    "                        print('Early Stopping Initiated')\n",
    "                        break\n",
    "                    \n",
    "                else:\n",
    "                    counter = 0\n",
    "\n",
    "                prev_loss = val_epoch_loss # update the threshold loss to the previous validation loss of the epoch\n",
    "            \n",
    "            #saving the best performing model\n",
    "            if(val_epoch_accuracy>best_acc):\n",
    "                best_acc=val_epoch_accuracy\n",
    "                best_model=model\n",
    "\n",
    "            #saving the model for a particular learning rate\n",
    "            torch.save(model.state_dict(),'/content/drive/MyDrive/ASL_Project/savedmodels/'+'model_cnn_lr'+str(learning_rate)+'_wt_decay_'+str(wt_decay)+'.pth' )\n",
    "            \n",
    "            #plotting the accuracy and loss curves\n",
    "            print('Plotting Validation and Training Accuracy Curves for Learning Rate of ', learning_rate,' and Weight Decay of ',wt_decay)\n",
    "            plot_accuracy(train_accuracy,val_accuracy)\n",
    "            print('Plotting Validation and Training Loss Curves for Learning Rate of ', learning_rate,' and Weight Decay of ',wt_decay)\n",
    "            plot_loss(train_loss,val_loss)\n",
    "    \n",
    "    return best_model"
   ]
  },
  {
   "cell_type": "markdown",
   "metadata": {
    "id": "NhhYKmfKLQ1R"
   },
   "source": [
    "### Training the CNN model"
   ]
  },
  {
   "cell_type": "code",
   "execution_count": null,
   "metadata": {
    "colab": {
     "base_uri": "https://localhost:8080/",
     "height": 364
    },
    "id": "YZWtHihhLG6p",
    "outputId": "f3d01cba-fe9b-493d-a378-2281718ef091"
   },
   "outputs": [],
   "source": [
    "trained_cnn_model=my_cnn_model()"
   ]
  },
  {
   "cell_type": "markdown",
   "metadata": {
    "id": "z15cNq9_LLfj"
   },
   "source": [
    "### Testing the CNN model"
   ]
  },
  {
   "cell_type": "markdown",
   "metadata": {
    "id": "V6JO40W_LHRi"
   },
   "source": [
    "#### Testing the model on given test dataset"
   ]
  },
  {
   "cell_type": "code",
   "execution_count": null,
   "metadata": {
    "id": "ecKFOJx-K8IX"
   },
   "outputs": [],
   "source": [
    "test_model(trained_cnn_model,test_loader,0)"
   ]
  },
  {
   "cell_type": "markdown",
   "metadata": {
    "id": "W0qXw7OgLE9J"
   },
   "source": [
    "#### Testing the model on our test dataset"
   ]
  },
  {
   "cell_type": "code",
   "execution_count": null,
   "metadata": {
    "id": "JEFf5BxFK8LZ"
   },
   "outputs": [],
   "source": [
    "test_model(trained_cnn_model,my_test_loader,1)"
   ]
  },
  {
   "cell_type": "markdown",
   "metadata": {
    "id": "oveLNuADy6Sl"
   },
   "source": [
    "## ResNet-50"
   ]
  },
  {
   "cell_type": "markdown",
   "metadata": {
    "id": "y2PJMtrMy6Sl"
   },
   "source": [
    "### Updating the fully connected layer of the pretrained ResNet-50 model"
   ]
  },
  {
   "cell_type": "code",
   "execution_count": null,
   "metadata": {
    "id": "w1OvGRlFy6Sl"
   },
   "outputs": [],
   "source": [
    "def Resnet_50():\n",
    "    '''Using the concept of transfer learning on the pre-trained Resnet-50 model and retraining the fully connected layer '''\n",
    "    \n",
    "    model = models.resnet50(pretrained=True)\n",
    "    \n",
    "    for param in model.parameters():                 #freezing the pretrained layers\n",
    "        param.requires_grad = False\n",
    "\n",
    "    model.fc = nn.Sequential(nn.Linear(2048, 1000),  #redefining the fully connected classifier layer\n",
    "                             nn.ReLU(),\n",
    "                             nn.Dropout(0.3),\n",
    "                             nn.Linear(1000, 500),\n",
    "                             nn.ReLU(),\n",
    "                             nn.Dropout(0.2),\n",
    "                             nn.Linear(500, 29))\n",
    "    return model"
   ]
  },
  {
   "cell_type": "code",
   "execution_count": null,
   "metadata": {
    "colab": {
     "base_uri": "https://localhost:8080/",
     "height": 1000,
     "referenced_widgets": [
      "abd66a36f04a4350afe867dad7d095ba",
      "2883f67e3be44c2fa84fa944f4eaa024",
      "8c03a22df2954d01807724e12c79b4ea",
      "461d2c8c42fe48739bb45c989160cb78",
      "00bab03ffc4c47c597d084783286b30b",
      "fa69fb844ef8431b92a748de0cbabd97",
      "93a7a53ef18546d7ba932e06c724e1af",
      "5b36c3409bb24cd8b4719d48cd02f105",
      "e1b4fd9be44142898a828abafc5383a2",
      "001f96a4502e480d8f2ce11030bbe5bc",
      "f39cd816edba4258b9d862490227bc3d"
     ]
    },
    "id": "EBH4eY3ny6Sm",
    "outputId": "15f6b330-3319-4cff-891d-2a9fa63a86c9"
   },
   "outputs": [],
   "source": [
    "resnet_model = Resnet_50()\n",
    "print('Layers of the updated pre-trained ResNet 50 model')\n",
    "print(resnet_model)\n",
    "\n",
    "# total parameters \n",
    "total_parameters = sum(para.numel() for para in resnet_model.parameters())\n",
    "print(f\"{total_parameters:,} number of total parameters.\")\n",
    "\n",
    "# trainable parameters\n",
    "total_trainable_parameters = sum(para.numel() for para in resnet_model.parameters() if para.requires_grad)\n",
    "print(f\"{total_trainable_parameters:,} number of training parameters.\")"
   ]
  },
  {
   "cell_type": "code",
   "execution_count": null,
   "metadata": {
    "id": "vHc4FeELy6Sm"
   },
   "outputs": [],
   "source": [
    "def model_optimizer_criterion_res(model, learning_rate):\n",
    "    '''\n",
    "    Function to define the optimizer and criterion function for the ResNet model\n",
    "\n",
    "    Parameters:\n",
    "    learning_rate: learning rate for optimizer\n",
    "   \n",
    "    Return:\n",
    "    optimizer: optimizer with a learning rate\n",
    "    criterion: loss criterion\n",
    "    '''\n",
    "    # optimizer\n",
    "    optimizer = torch.optim.Adam(model.fc.parameters(), lr=learning_rate, weight_decay = 0.0001)\n",
    "    # loss function\n",
    "    criterion = nn.CrossEntropyLoss()\n",
    "    \n",
    "    return optimizer,criterion"
   ]
  },
  {
   "cell_type": "code",
   "execution_count": null,
   "metadata": {
    "id": "rjRu0Swqy6Sm"
   },
   "outputs": [],
   "source": [
    "def resnet_50_model():\n",
    "    '''\n",
    "    Function to train the model as well as check the performance on the validation dataset. Performs early stopping when the\n",
    "    validation loss exceeds the previous loss twice.\n",
    "    '''\n",
    "    \n",
    "    num_epoch=40 #setting total number of epochs to be 40\n",
    "    prev_loss=100 #initial loss value for early stopping\n",
    "    max_penalty=3\n",
    "    best_acc=0\n",
    "    \n",
    "    parameter_learning_rate=[0.1,0.01,0.001] # different values for learning rate \n",
    "    for i,learning_rate in enumerate(parameter_learning_rate): #Looping through the learning rates\n",
    "        train_loss , train_accuracy = [], []\n",
    "        val_loss , val_accuracy = [], []\n",
    "        counter=0\n",
    "        model = Resnet_50().to(device)\n",
    "        \n",
    "        optimizer,criterion = model_optimizer_criterion_res(model, learning_rate)\n",
    "        print(\"Training model on Learning Rate=\",learning_rate)\n",
    "        \n",
    "        #model will train for a particular learning rate\n",
    "        for epoch in range(num_epoch):# Looping through the epochs\n",
    "            print(f\"Epoch number {epoch+1} of {num_epoch}\")\n",
    "            \n",
    "            #training the model \n",
    "            train_epoch_loss, train_epoch_accuracy = train_model(model, \n",
    "                                                         train_loader,\n",
    "                                                         optimizer,\n",
    "                                                         criterion)\n",
    "            #checking the performance on validation\n",
    "            val_epoch_loss, val_epoch_accuracy = validate_model(model, \n",
    "                                                          val_loader,\n",
    "                                                          criterion)\n",
    "            #append the loss and accuracy for every epoch for both train and validation data set\n",
    "            train_loss.append(train_epoch_loss)\n",
    "            train_accuracy.append(train_epoch_accuracy)\n",
    "            val_loss.append(val_epoch_loss)\n",
    "            val_accuracy.append(val_epoch_accuracy)\n",
    "            \n",
    "            # Early Stopping\n",
    "            if val_epoch_loss>prev_loss: # checking if validation loss for the current epoch is greater than the previous loss\n",
    "                counter+=1\n",
    "                if counter>= max_penalty: # if the validation loss exceeds the previous loss twice begin the early stopping process\n",
    "                    print('Early Stopping Initiated')\n",
    "                    break\n",
    "                    \n",
    "            else:\n",
    "                counter = 0\n",
    "\n",
    "            prev_loss = val_epoch_loss # update the threshold loss to the previous validation loss of the epoch\n",
    "            \n",
    "        #saving the best performing model\n",
    "        if(val_epoch_accuracy>best_acc):\n",
    "            best_acc=val_epoch_accuracy\n",
    "            best_model=model\n",
    "            \n",
    "        #saving the model for a particular learning rate\n",
    "        torch.save(model.state_dict(),'/content/drive/MyDrive/ASL_Project/savedmodels/'+'model_mobile_net'+str(learning_rate)+'.pth' )\n",
    "        \n",
    "        #plotting the accuracy and loss curves\n",
    "        print('Plotting Validation and Training Accuracy Curves for Learning Rate of ', learning_rate)\n",
    "        plot_accuracy(train_accuracy,val_accuracy)\n",
    "        print('Plotting Validation and Training Loss Curves for Learning Rate of ', learning_rate)\n",
    "        plot_loss(train_loss,val_loss)\n",
    "    \n",
    "    return best_model"
   ]
  },
  {
   "cell_type": "markdown",
   "metadata": {
    "id": "5LB5LANVy6Sn"
   },
   "source": [
    "### Training the ResNet 50 model"
   ]
  },
  {
   "cell_type": "code",
   "execution_count": null,
   "metadata": {
    "colab": {
     "base_uri": "https://localhost:8080/",
     "height": 288
    },
    "id": "rqCHbntFy6Sn",
    "outputId": "9ed62ea4-b6ce-4cf7-99ab-099bdde82794"
   },
   "outputs": [],
   "source": [
    "trained_resnet_50_model = resnet_50_model()"
   ]
  },
  {
   "cell_type": "markdown",
   "metadata": {
    "id": "dYLXeKHty6Sn"
   },
   "source": [
    "### Testing the ResNet 50 model"
   ]
  },
  {
   "cell_type": "markdown",
   "metadata": {
    "id": "BvQ_o3WOy6Sn"
   },
   "source": [
    "#### Testing the model on given test dataset"
   ]
  },
  {
   "cell_type": "code",
   "execution_count": null,
   "metadata": {
    "id": "Xr04jPsxy6Sn"
   },
   "outputs": [],
   "source": [
    "test_model(trained_resnet_50_model,test_loader,0)"
   ]
  },
  {
   "cell_type": "markdown",
   "metadata": {
    "id": "Uxftye48y6Sn"
   },
   "source": [
    "#### Testing the model on our test dataset"
   ]
  },
  {
   "cell_type": "code",
   "execution_count": null,
   "metadata": {
    "id": "xz6-oCCay6Sn"
   },
   "outputs": [],
   "source": [
    "test_model(trained_neural_net_model,my_test_loader,1)"
   ]
  },
  {
   "cell_type": "markdown",
   "metadata": {
    "id": "qF4TTO-ctI8x"
   },
   "source": [
    "## Mobile-Net V2"
   ]
  },
  {
   "cell_type": "markdown",
   "metadata": {
    "id": "iiRO4BWnyIkf"
   },
   "source": [
    "### Updating the pretrained Mobile Net V2 model"
   ]
  },
  {
   "cell_type": "code",
   "execution_count": null,
   "metadata": {
    "id": "IVZgp7o5qtCV"
   },
   "outputs": [],
   "source": [
    "def ModelMob():\n",
    "    '''Using the concept of transfer learning on the pre-trained Mobile Net V2 model and retraining the fully connected layer '''\n",
    "    \n",
    "    model = models.mobilenet_v2(pretrained=True)\n",
    "    \n",
    "    for param in model.parameters():                          #freezing the pretrained layers\n",
    "        param.requires_grad = False\n",
    "\n",
    "    model.classifier = nn.Sequential(nn.Linear(1280, 128),    #redefining the fully connected classifier layer\n",
    "                             nn.ReLU(),\n",
    "                             nn.Dropout(0.2),\n",
    "                             nn.Linear(128, 64),\n",
    "                             nn.ReLU(),\n",
    "                             nn.Dropout(0.2),\n",
    "                             nn.Linear(64, 29))\n",
    "    return model"
   ]
  },
  {
   "cell_type": "code",
   "execution_count": null,
   "metadata": {
    "colab": {
     "base_uri": "https://localhost:8080/",
     "height": 1000,
     "referenced_widgets": [
      "aca944ec410e44aaa6039d83cb34c426",
      "e2d8a543d7cb4b589d373186cb08375a",
      "d2fb554e27184cb9bdc771d00bfe03f8",
      "15cebb26c49e4b19b2ee54cd1cd926f0",
      "4b0f80d4c9ae4ff6b1af04e88d45490b",
      "100ea9bcabac4361b30bbbb39847d0c6",
      "650dbd303e42421184e19b6d64115139",
      "7d7a7e12942c441a9eabb5c8f3ad9227",
      "1c4d78bf95f341bc802173f610d451cf",
      "3a1c00a1cf6d467085a5dc5d865da44e",
      "d82e16e3c6c74bedb19c5bc2059c73e9"
     ]
    },
    "id": "G-7V7zBzqtEq",
    "outputId": "a7f39143-b15d-4850-a879-7de1b0dd1dac"
   },
   "outputs": [],
   "source": [
    "mob_model = ModelMob()\n",
    "print('Layers of the updated pre-trained Mobile Net-V2 model')\n",
    "print(mob_model)\n",
    "# total parameters \n",
    "total_parameters = sum(para.numel() for para in mob_model.parameters())\n",
    "print(f\"{total_parameters:,} number of total parameters.\")\n",
    "\n",
    "# trainable parameters\n",
    "total_trainable_parameters = sum(para.numel() for para in mob_model.parameters() if para.requires_grad)\n",
    "print(f\"{total_trainable_parameters:,} number of training parameters.\")\n"
   ]
  },
  {
   "cell_type": "markdown",
   "metadata": {
    "id": "NCXNEnMN5Ne5"
   },
   "source": [
    "### Training the Mobile Net V2 model"
   ]
  },
  {
   "cell_type": "code",
   "execution_count": null,
   "metadata": {
    "id": "CZtcMnn4uM-f"
   },
   "outputs": [],
   "source": [
    "def mobile_net_model():\n",
    "    '''\n",
    "    Function to train the model as well as check the performance on the validation dataset. Performs early stopping when the\n",
    "    validation loss exceeds the previous loss twice.\n",
    "    '''\n",
    "    num_epoch=40 #setting total number of epochs to be 40\n",
    "    prev_loss=100 # initial loss value for early stopping\n",
    "    max_penalty=2\n",
    "    best_acc=0\n",
    "    \n",
    "    parameter_learning_rate=[0.1,0.01,0.001]# different values for learning rate \n",
    "    for i,learning_rate in enumerate(parameter_learning_rate):#Looping through the learning rates\n",
    "        train_loss , train_accuracy = [], []\n",
    "        val_loss , val_accuracy = [], []\n",
    "        counter=0\n",
    "        model = ModelMob().to(device)\n",
    "        optimizer,criterion=model_optimizer_criterion(model, learning_rate)\n",
    "        print(\"Training model on Learning Rate=\",learning_rate)\n",
    "        #model will train for a particular learning rate\n",
    "        for epoch in range(num_epoch):# Looping through the epochs\n",
    "            print(f\"Epoch number {epoch+1} of {num_epoch}\")\n",
    "            #training the model \n",
    "            train_epoch_loss, train_epoch_accuracy = train_model(model, \n",
    "                                                         train_loader,\n",
    "                                                         optimizer,\n",
    "                                                         criterion)\n",
    "            #checking the performance on validation\n",
    "            val_epoch_loss, val_epoch_accuracy = validate_model(model, \n",
    "                                                          val_loader,\n",
    "                                                          criterion)\n",
    "            #append the loss and accuracy for every epoch for both train and validation data set\n",
    "            train_loss.append(train_epoch_loss)\n",
    "            train_accuracy.append(train_epoch_accuracy)\n",
    "            val_loss.append(val_epoch_loss)\n",
    "            val_accuracy.append(val_epoch_accuracy)\n",
    "            # Early Stopping\n",
    "            if val_epoch_loss>prev_loss:# checking if validation loss is greater than the previous loss\n",
    "                counter+=1\n",
    "                if counter>= max_penalty:# if the validation loss exceeds the threshold loss twice begin the early stopping process\n",
    "                    print('Early Stopping Initiated')\n",
    "                    break\n",
    "            else:\n",
    "                counter = 0\n",
    "\n",
    "            prev_loss=val_epoch_loss# update the previous loss to the previous validation loss of the epoch\n",
    "            \n",
    "        #saving the best performing model\n",
    "        if(val_epoch_accuracy>best_acc):\n",
    "            best_acc=val_epoch_accuracy\n",
    "            best_model=model\n",
    "        #saving the model for a particular learning rate\n",
    "        torch.save(model.state_dict(),'/content/drive/MyDrive/ASL_Project/savedmodels/'+'model_mobile_net'+str(learning_rate)+'.pth' )\n",
    "        #plotting the accuracy and loss curves\n",
    "        print('Plotting Validation and Training Accuracy Curves for Learning Rate of ', learning_rate)\n",
    "        plot_accuracy(train_accuracy,val_accuracy)\n",
    "        print('Plotting Validation and Training Loss Curves for Learning Rate of ', learning_rate)\n",
    "        plot_loss(train_loss,val_loss)\n",
    "    \n",
    "    return best_model\n"
   ]
  },
  {
   "cell_type": "code",
   "execution_count": null,
   "metadata": {
    "colab": {
     "base_uri": "https://localhost:8080/",
     "height": 382
    },
    "id": "uXzq6-hsuNA_",
    "outputId": "e9c49b88-264c-4ae2-c99a-b3a32d82e817"
   },
   "outputs": [],
   "source": [
    "trained_mobile_net_model=mobile_net_model()"
   ]
  },
  {
   "cell_type": "markdown",
   "metadata": {
    "id": "r_3ZszsT5UgY"
   },
   "source": [
    "### Testing the Mobile Net V2 model"
   ]
  },
  {
   "cell_type": "markdown",
   "metadata": {
    "id": "KbnlHN_K6ymP"
   },
   "source": [
    "#### Testing the model on given test dataset"
   ]
  },
  {
   "cell_type": "code",
   "execution_count": null,
   "metadata": {
    "id": "0_QVZKdMuNDh"
   },
   "outputs": [],
   "source": [
    "test_model(trained_mobile_net_model,test_loader,0)"
   ]
  },
  {
   "cell_type": "markdown",
   "metadata": {
    "id": "YSulfflw67UP"
   },
   "source": [
    "#### Testing the model on our test dataset"
   ]
  },
  {
   "cell_type": "code",
   "execution_count": null,
   "metadata": {
    "id": "000xdya66qwv"
   },
   "outputs": [],
   "source": [
    "test_model(trained_mobile_net_model,my_test_loader,1)"
   ]
  }
 ],
 "metadata": {
  "colab": {
   "collapsed_sections": [],
   "name": "ASL_Project(1).ipynb",
   "provenance": []
  },
  "kernelspec": {
   "display_name": "Python 3 (ipykernel)",
   "language": "python",
   "name": "python3"
  },
  "language_info": {
   "codemirror_mode": {
    "name": "ipython",
    "version": 3
   },
   "file_extension": ".py",
   "mimetype": "text/x-python",
   "name": "python",
   "nbconvert_exporter": "python",
   "pygments_lexer": "ipython3",
   "version": "3.9.7"
  },
  "widgets": {
   "application/vnd.jupyter.widget-state+json": {
    "001f96a4502e480d8f2ce11030bbe5bc": {
     "model_module": "@jupyter-widgets/base",
     "model_module_version": "1.2.0",
     "model_name": "LayoutModel",
     "state": {
      "_model_module": "@jupyter-widgets/base",
      "_model_module_version": "1.2.0",
      "_model_name": "LayoutModel",
      "_view_count": null,
      "_view_module": "@jupyter-widgets/base",
      "_view_module_version": "1.2.0",
      "_view_name": "LayoutView",
      "align_content": null,
      "align_items": null,
      "align_self": null,
      "border": null,
      "bottom": null,
      "display": null,
      "flex": null,
      "flex_flow": null,
      "grid_area": null,
      "grid_auto_columns": null,
      "grid_auto_flow": null,
      "grid_auto_rows": null,
      "grid_column": null,
      "grid_gap": null,
      "grid_row": null,
      "grid_template_areas": null,
      "grid_template_columns": null,
      "grid_template_rows": null,
      "height": null,
      "justify_content": null,
      "justify_items": null,
      "left": null,
      "margin": null,
      "max_height": null,
      "max_width": null,
      "min_height": null,
      "min_width": null,
      "object_fit": null,
      "object_position": null,
      "order": null,
      "overflow": null,
      "overflow_x": null,
      "overflow_y": null,
      "padding": null,
      "right": null,
      "top": null,
      "visibility": null,
      "width": null
     }
    },
    "00bab03ffc4c47c597d084783286b30b": {
     "model_module": "@jupyter-widgets/base",
     "model_module_version": "1.2.0",
     "model_name": "LayoutModel",
     "state": {
      "_model_module": "@jupyter-widgets/base",
      "_model_module_version": "1.2.0",
      "_model_name": "LayoutModel",
      "_view_count": null,
      "_view_module": "@jupyter-widgets/base",
      "_view_module_version": "1.2.0",
      "_view_name": "LayoutView",
      "align_content": null,
      "align_items": null,
      "align_self": null,
      "border": null,
      "bottom": null,
      "display": null,
      "flex": null,
      "flex_flow": null,
      "grid_area": null,
      "grid_auto_columns": null,
      "grid_auto_flow": null,
      "grid_auto_rows": null,
      "grid_column": null,
      "grid_gap": null,
      "grid_row": null,
      "grid_template_areas": null,
      "grid_template_columns": null,
      "grid_template_rows": null,
      "height": null,
      "justify_content": null,
      "justify_items": null,
      "left": null,
      "margin": null,
      "max_height": null,
      "max_width": null,
      "min_height": null,
      "min_width": null,
      "object_fit": null,
      "object_position": null,
      "order": null,
      "overflow": null,
      "overflow_x": null,
      "overflow_y": null,
      "padding": null,
      "right": null,
      "top": null,
      "visibility": null,
      "width": null
     }
    },
    "100ea9bcabac4361b30bbbb39847d0c6": {
     "model_module": "@jupyter-widgets/base",
     "model_module_version": "1.2.0",
     "model_name": "LayoutModel",
     "state": {
      "_model_module": "@jupyter-widgets/base",
      "_model_module_version": "1.2.0",
      "_model_name": "LayoutModel",
      "_view_count": null,
      "_view_module": "@jupyter-widgets/base",
      "_view_module_version": "1.2.0",
      "_view_name": "LayoutView",
      "align_content": null,
      "align_items": null,
      "align_self": null,
      "border": null,
      "bottom": null,
      "display": null,
      "flex": null,
      "flex_flow": null,
      "grid_area": null,
      "grid_auto_columns": null,
      "grid_auto_flow": null,
      "grid_auto_rows": null,
      "grid_column": null,
      "grid_gap": null,
      "grid_row": null,
      "grid_template_areas": null,
      "grid_template_columns": null,
      "grid_template_rows": null,
      "height": null,
      "justify_content": null,
      "justify_items": null,
      "left": null,
      "margin": null,
      "max_height": null,
      "max_width": null,
      "min_height": null,
      "min_width": null,
      "object_fit": null,
      "object_position": null,
      "order": null,
      "overflow": null,
      "overflow_x": null,
      "overflow_y": null,
      "padding": null,
      "right": null,
      "top": null,
      "visibility": null,
      "width": null
     }
    },
    "15cebb26c49e4b19b2ee54cd1cd926f0": {
     "model_module": "@jupyter-widgets/controls",
     "model_module_version": "1.5.0",
     "model_name": "HTMLModel",
     "state": {
      "_dom_classes": [],
      "_model_module": "@jupyter-widgets/controls",
      "_model_module_version": "1.5.0",
      "_model_name": "HTMLModel",
      "_view_count": null,
      "_view_module": "@jupyter-widgets/controls",
      "_view_module_version": "1.5.0",
      "_view_name": "HTMLView",
      "description": "",
      "description_tooltip": null,
      "layout": "IPY_MODEL_3a1c00a1cf6d467085a5dc5d865da44e",
      "placeholder": "​",
      "style": "IPY_MODEL_d82e16e3c6c74bedb19c5bc2059c73e9",
      "value": " 13.6M/13.6M [00:00&lt;00:00, 14.8MB/s]"
     }
    },
    "1c4d78bf95f341bc802173f610d451cf": {
     "model_module": "@jupyter-widgets/controls",
     "model_module_version": "1.5.0",
     "model_name": "ProgressStyleModel",
     "state": {
      "_model_module": "@jupyter-widgets/controls",
      "_model_module_version": "1.5.0",
      "_model_name": "ProgressStyleModel",
      "_view_count": null,
      "_view_module": "@jupyter-widgets/base",
      "_view_module_version": "1.2.0",
      "_view_name": "StyleView",
      "bar_color": null,
      "description_width": ""
     }
    },
    "2883f67e3be44c2fa84fa944f4eaa024": {
     "model_module": "@jupyter-widgets/controls",
     "model_module_version": "1.5.0",
     "model_name": "HTMLModel",
     "state": {
      "_dom_classes": [],
      "_model_module": "@jupyter-widgets/controls",
      "_model_module_version": "1.5.0",
      "_model_name": "HTMLModel",
      "_view_count": null,
      "_view_module": "@jupyter-widgets/controls",
      "_view_module_version": "1.5.0",
      "_view_name": "HTMLView",
      "description": "",
      "description_tooltip": null,
      "layout": "IPY_MODEL_fa69fb844ef8431b92a748de0cbabd97",
      "placeholder": "​",
      "style": "IPY_MODEL_93a7a53ef18546d7ba932e06c724e1af",
      "value": "100%"
     }
    },
    "3a1c00a1cf6d467085a5dc5d865da44e": {
     "model_module": "@jupyter-widgets/base",
     "model_module_version": "1.2.0",
     "model_name": "LayoutModel",
     "state": {
      "_model_module": "@jupyter-widgets/base",
      "_model_module_version": "1.2.0",
      "_model_name": "LayoutModel",
      "_view_count": null,
      "_view_module": "@jupyter-widgets/base",
      "_view_module_version": "1.2.0",
      "_view_name": "LayoutView",
      "align_content": null,
      "align_items": null,
      "align_self": null,
      "border": null,
      "bottom": null,
      "display": null,
      "flex": null,
      "flex_flow": null,
      "grid_area": null,
      "grid_auto_columns": null,
      "grid_auto_flow": null,
      "grid_auto_rows": null,
      "grid_column": null,
      "grid_gap": null,
      "grid_row": null,
      "grid_template_areas": null,
      "grid_template_columns": null,
      "grid_template_rows": null,
      "height": null,
      "justify_content": null,
      "justify_items": null,
      "left": null,
      "margin": null,
      "max_height": null,
      "max_width": null,
      "min_height": null,
      "min_width": null,
      "object_fit": null,
      "object_position": null,
      "order": null,
      "overflow": null,
      "overflow_x": null,
      "overflow_y": null,
      "padding": null,
      "right": null,
      "top": null,
      "visibility": null,
      "width": null
     }
    },
    "461d2c8c42fe48739bb45c989160cb78": {
     "model_module": "@jupyter-widgets/controls",
     "model_module_version": "1.5.0",
     "model_name": "HTMLModel",
     "state": {
      "_dom_classes": [],
      "_model_module": "@jupyter-widgets/controls",
      "_model_module_version": "1.5.0",
      "_model_name": "HTMLModel",
      "_view_count": null,
      "_view_module": "@jupyter-widgets/controls",
      "_view_module_version": "1.5.0",
      "_view_name": "HTMLView",
      "description": "",
      "description_tooltip": null,
      "layout": "IPY_MODEL_001f96a4502e480d8f2ce11030bbe5bc",
      "placeholder": "​",
      "style": "IPY_MODEL_f39cd816edba4258b9d862490227bc3d",
      "value": " 97.8M/97.8M [00:02&lt;00:00, 45.0MB/s]"
     }
    },
    "4b0f80d4c9ae4ff6b1af04e88d45490b": {
     "model_module": "@jupyter-widgets/base",
     "model_module_version": "1.2.0",
     "model_name": "LayoutModel",
     "state": {
      "_model_module": "@jupyter-widgets/base",
      "_model_module_version": "1.2.0",
      "_model_name": "LayoutModel",
      "_view_count": null,
      "_view_module": "@jupyter-widgets/base",
      "_view_module_version": "1.2.0",
      "_view_name": "LayoutView",
      "align_content": null,
      "align_items": null,
      "align_self": null,
      "border": null,
      "bottom": null,
      "display": null,
      "flex": null,
      "flex_flow": null,
      "grid_area": null,
      "grid_auto_columns": null,
      "grid_auto_flow": null,
      "grid_auto_rows": null,
      "grid_column": null,
      "grid_gap": null,
      "grid_row": null,
      "grid_template_areas": null,
      "grid_template_columns": null,
      "grid_template_rows": null,
      "height": null,
      "justify_content": null,
      "justify_items": null,
      "left": null,
      "margin": null,
      "max_height": null,
      "max_width": null,
      "min_height": null,
      "min_width": null,
      "object_fit": null,
      "object_position": null,
      "order": null,
      "overflow": null,
      "overflow_x": null,
      "overflow_y": null,
      "padding": null,
      "right": null,
      "top": null,
      "visibility": null,
      "width": null
     }
    },
    "5b36c3409bb24cd8b4719d48cd02f105": {
     "model_module": "@jupyter-widgets/base",
     "model_module_version": "1.2.0",
     "model_name": "LayoutModel",
     "state": {
      "_model_module": "@jupyter-widgets/base",
      "_model_module_version": "1.2.0",
      "_model_name": "LayoutModel",
      "_view_count": null,
      "_view_module": "@jupyter-widgets/base",
      "_view_module_version": "1.2.0",
      "_view_name": "LayoutView",
      "align_content": null,
      "align_items": null,
      "align_self": null,
      "border": null,
      "bottom": null,
      "display": null,
      "flex": null,
      "flex_flow": null,
      "grid_area": null,
      "grid_auto_columns": null,
      "grid_auto_flow": null,
      "grid_auto_rows": null,
      "grid_column": null,
      "grid_gap": null,
      "grid_row": null,
      "grid_template_areas": null,
      "grid_template_columns": null,
      "grid_template_rows": null,
      "height": null,
      "justify_content": null,
      "justify_items": null,
      "left": null,
      "margin": null,
      "max_height": null,
      "max_width": null,
      "min_height": null,
      "min_width": null,
      "object_fit": null,
      "object_position": null,
      "order": null,
      "overflow": null,
      "overflow_x": null,
      "overflow_y": null,
      "padding": null,
      "right": null,
      "top": null,
      "visibility": null,
      "width": null
     }
    },
    "650dbd303e42421184e19b6d64115139": {
     "model_module": "@jupyter-widgets/controls",
     "model_module_version": "1.5.0",
     "model_name": "DescriptionStyleModel",
     "state": {
      "_model_module": "@jupyter-widgets/controls",
      "_model_module_version": "1.5.0",
      "_model_name": "DescriptionStyleModel",
      "_view_count": null,
      "_view_module": "@jupyter-widgets/base",
      "_view_module_version": "1.2.0",
      "_view_name": "StyleView",
      "description_width": ""
     }
    },
    "7d7a7e12942c441a9eabb5c8f3ad9227": {
     "model_module": "@jupyter-widgets/base",
     "model_module_version": "1.2.0",
     "model_name": "LayoutModel",
     "state": {
      "_model_module": "@jupyter-widgets/base",
      "_model_module_version": "1.2.0",
      "_model_name": "LayoutModel",
      "_view_count": null,
      "_view_module": "@jupyter-widgets/base",
      "_view_module_version": "1.2.0",
      "_view_name": "LayoutView",
      "align_content": null,
      "align_items": null,
      "align_self": null,
      "border": null,
      "bottom": null,
      "display": null,
      "flex": null,
      "flex_flow": null,
      "grid_area": null,
      "grid_auto_columns": null,
      "grid_auto_flow": null,
      "grid_auto_rows": null,
      "grid_column": null,
      "grid_gap": null,
      "grid_row": null,
      "grid_template_areas": null,
      "grid_template_columns": null,
      "grid_template_rows": null,
      "height": null,
      "justify_content": null,
      "justify_items": null,
      "left": null,
      "margin": null,
      "max_height": null,
      "max_width": null,
      "min_height": null,
      "min_width": null,
      "object_fit": null,
      "object_position": null,
      "order": null,
      "overflow": null,
      "overflow_x": null,
      "overflow_y": null,
      "padding": null,
      "right": null,
      "top": null,
      "visibility": null,
      "width": null
     }
    },
    "8c03a22df2954d01807724e12c79b4ea": {
     "model_module": "@jupyter-widgets/controls",
     "model_module_version": "1.5.0",
     "model_name": "FloatProgressModel",
     "state": {
      "_dom_classes": [],
      "_model_module": "@jupyter-widgets/controls",
      "_model_module_version": "1.5.0",
      "_model_name": "FloatProgressModel",
      "_view_count": null,
      "_view_module": "@jupyter-widgets/controls",
      "_view_module_version": "1.5.0",
      "_view_name": "ProgressView",
      "bar_style": "success",
      "description": "",
      "description_tooltip": null,
      "layout": "IPY_MODEL_5b36c3409bb24cd8b4719d48cd02f105",
      "max": 102530333,
      "min": 0,
      "orientation": "horizontal",
      "style": "IPY_MODEL_e1b4fd9be44142898a828abafc5383a2",
      "value": 102530333
     }
    },
    "93a7a53ef18546d7ba932e06c724e1af": {
     "model_module": "@jupyter-widgets/controls",
     "model_module_version": "1.5.0",
     "model_name": "DescriptionStyleModel",
     "state": {
      "_model_module": "@jupyter-widgets/controls",
      "_model_module_version": "1.5.0",
      "_model_name": "DescriptionStyleModel",
      "_view_count": null,
      "_view_module": "@jupyter-widgets/base",
      "_view_module_version": "1.2.0",
      "_view_name": "StyleView",
      "description_width": ""
     }
    },
    "abd66a36f04a4350afe867dad7d095ba": {
     "model_module": "@jupyter-widgets/controls",
     "model_module_version": "1.5.0",
     "model_name": "HBoxModel",
     "state": {
      "_dom_classes": [],
      "_model_module": "@jupyter-widgets/controls",
      "_model_module_version": "1.5.0",
      "_model_name": "HBoxModel",
      "_view_count": null,
      "_view_module": "@jupyter-widgets/controls",
      "_view_module_version": "1.5.0",
      "_view_name": "HBoxView",
      "box_style": "",
      "children": [
       "IPY_MODEL_2883f67e3be44c2fa84fa944f4eaa024",
       "IPY_MODEL_8c03a22df2954d01807724e12c79b4ea",
       "IPY_MODEL_461d2c8c42fe48739bb45c989160cb78"
      ],
      "layout": "IPY_MODEL_00bab03ffc4c47c597d084783286b30b"
     }
    },
    "aca944ec410e44aaa6039d83cb34c426": {
     "model_module": "@jupyter-widgets/controls",
     "model_module_version": "1.5.0",
     "model_name": "HBoxModel",
     "state": {
      "_dom_classes": [],
      "_model_module": "@jupyter-widgets/controls",
      "_model_module_version": "1.5.0",
      "_model_name": "HBoxModel",
      "_view_count": null,
      "_view_module": "@jupyter-widgets/controls",
      "_view_module_version": "1.5.0",
      "_view_name": "HBoxView",
      "box_style": "",
      "children": [
       "IPY_MODEL_e2d8a543d7cb4b589d373186cb08375a",
       "IPY_MODEL_d2fb554e27184cb9bdc771d00bfe03f8",
       "IPY_MODEL_15cebb26c49e4b19b2ee54cd1cd926f0"
      ],
      "layout": "IPY_MODEL_4b0f80d4c9ae4ff6b1af04e88d45490b"
     }
    },
    "d2fb554e27184cb9bdc771d00bfe03f8": {
     "model_module": "@jupyter-widgets/controls",
     "model_module_version": "1.5.0",
     "model_name": "FloatProgressModel",
     "state": {
      "_dom_classes": [],
      "_model_module": "@jupyter-widgets/controls",
      "_model_module_version": "1.5.0",
      "_model_name": "FloatProgressModel",
      "_view_count": null,
      "_view_module": "@jupyter-widgets/controls",
      "_view_module_version": "1.5.0",
      "_view_name": "ProgressView",
      "bar_style": "success",
      "description": "",
      "description_tooltip": null,
      "layout": "IPY_MODEL_7d7a7e12942c441a9eabb5c8f3ad9227",
      "max": 14212972,
      "min": 0,
      "orientation": "horizontal",
      "style": "IPY_MODEL_1c4d78bf95f341bc802173f610d451cf",
      "value": 14212972
     }
    },
    "d82e16e3c6c74bedb19c5bc2059c73e9": {
     "model_module": "@jupyter-widgets/controls",
     "model_module_version": "1.5.0",
     "model_name": "DescriptionStyleModel",
     "state": {
      "_model_module": "@jupyter-widgets/controls",
      "_model_module_version": "1.5.0",
      "_model_name": "DescriptionStyleModel",
      "_view_count": null,
      "_view_module": "@jupyter-widgets/base",
      "_view_module_version": "1.2.0",
      "_view_name": "StyleView",
      "description_width": ""
     }
    },
    "e1b4fd9be44142898a828abafc5383a2": {
     "model_module": "@jupyter-widgets/controls",
     "model_module_version": "1.5.0",
     "model_name": "ProgressStyleModel",
     "state": {
      "_model_module": "@jupyter-widgets/controls",
      "_model_module_version": "1.5.0",
      "_model_name": "ProgressStyleModel",
      "_view_count": null,
      "_view_module": "@jupyter-widgets/base",
      "_view_module_version": "1.2.0",
      "_view_name": "StyleView",
      "bar_color": null,
      "description_width": ""
     }
    },
    "e2d8a543d7cb4b589d373186cb08375a": {
     "model_module": "@jupyter-widgets/controls",
     "model_module_version": "1.5.0",
     "model_name": "HTMLModel",
     "state": {
      "_dom_classes": [],
      "_model_module": "@jupyter-widgets/controls",
      "_model_module_version": "1.5.0",
      "_model_name": "HTMLModel",
      "_view_count": null,
      "_view_module": "@jupyter-widgets/controls",
      "_view_module_version": "1.5.0",
      "_view_name": "HTMLView",
      "description": "",
      "description_tooltip": null,
      "layout": "IPY_MODEL_100ea9bcabac4361b30bbbb39847d0c6",
      "placeholder": "​",
      "style": "IPY_MODEL_650dbd303e42421184e19b6d64115139",
      "value": "100%"
     }
    },
    "f39cd816edba4258b9d862490227bc3d": {
     "model_module": "@jupyter-widgets/controls",
     "model_module_version": "1.5.0",
     "model_name": "DescriptionStyleModel",
     "state": {
      "_model_module": "@jupyter-widgets/controls",
      "_model_module_version": "1.5.0",
      "_model_name": "DescriptionStyleModel",
      "_view_count": null,
      "_view_module": "@jupyter-widgets/base",
      "_view_module_version": "1.2.0",
      "_view_name": "StyleView",
      "description_width": ""
     }
    },
    "fa69fb844ef8431b92a748de0cbabd97": {
     "model_module": "@jupyter-widgets/base",
     "model_module_version": "1.2.0",
     "model_name": "LayoutModel",
     "state": {
      "_model_module": "@jupyter-widgets/base",
      "_model_module_version": "1.2.0",
      "_model_name": "LayoutModel",
      "_view_count": null,
      "_view_module": "@jupyter-widgets/base",
      "_view_module_version": "1.2.0",
      "_view_name": "LayoutView",
      "align_content": null,
      "align_items": null,
      "align_self": null,
      "border": null,
      "bottom": null,
      "display": null,
      "flex": null,
      "flex_flow": null,
      "grid_area": null,
      "grid_auto_columns": null,
      "grid_auto_flow": null,
      "grid_auto_rows": null,
      "grid_column": null,
      "grid_gap": null,
      "grid_row": null,
      "grid_template_areas": null,
      "grid_template_columns": null,
      "grid_template_rows": null,
      "height": null,
      "justify_content": null,
      "justify_items": null,
      "left": null,
      "margin": null,
      "max_height": null,
      "max_width": null,
      "min_height": null,
      "min_width": null,
      "object_fit": null,
      "object_position": null,
      "order": null,
      "overflow": null,
      "overflow_x": null,
      "overflow_y": null,
      "padding": null,
      "right": null,
      "top": null,
      "visibility": null,
      "width": null
     }
    }
   }
  }
 },
 "nbformat": 4,
 "nbformat_minor": 1
}
